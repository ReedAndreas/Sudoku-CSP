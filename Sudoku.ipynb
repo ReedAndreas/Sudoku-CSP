{
 "cells": [
  {
   "cell_type": "markdown",
   "metadata": {},
   "source": [
    "The following program addresses a common **Constraint Satisfaction Problem** by solving the game Sudoku (shown below) using backtracking principles.\n",
    "In addition, following the main algoritm, we perform some data visualization/analysis."
   ]
  },
  {
   "cell_type": "markdown",
   "metadata": {},
   "source": [
    "![Solved Sudoku](img/solved.png)"
   ]
  },
  {
   "cell_type": "markdown",
   "metadata": {},
   "source": [
    "The general program design begins with creating classes for both **Blanks** and **Boards**. A blank is each individual tile not filled in and a Board is comprised of both constants already filled in and Blank objects"
   ]
  },
  {
   "cell_type": "code",
   "execution_count": 98,
   "metadata": {},
   "outputs": [],
   "source": [
    "import numpy as np\n",
    "import pandas as pd\n",
    "import time\n",
    "import seaborn as sns\n",
    "import matplotlib.pyplot as plt\n",
    "%matplotlib inline\n",
    "import random\n",
    "import copy\n",
    "from tqdm import tqdm"
   ]
  },
  {
   "cell_type": "markdown",
   "metadata": {},
   "source": [
    "Below is the Blank class outlining Blank objects. First, the blank establishes basic info passed through parameters such as its index on the board and all of the rows, columns, and groups of the board which are each lists containing lists of numbers 1-9 or 0's representing a blank. The Blank uses its index to determine which row, column, and group is *its own*. For rows we can simply do integer division by 9 on the index describing its space in the 9x9 grid. Columns is simply a modulo of the index with 9. Its specific group is slightly more complicated so there is a helper method to determine that.\n",
    "\n",
    "Once the Blank knows which row, column, and group it is a part of we can run the most important method whih is the **find_possibilities** method. This method iterates through numbers 1-9 and checks to see if they are present in either its row, column, or group already. The **continue** keyword just means go back up to the top of the loop and start the next iteration. So this method will only reach the append statement if the number is in none of these already. This means its a valid posibility and thus should be added to the **possibles list**. In the end, this list will comprise each number that is a valid move for the Blank which makes the program much more efficient than trying a new board filled with each number 1-9 and checking if it is a valid move."
   ]
  },
  {
   "cell_type": "code",
   "execution_count": 99,
   "metadata": {},
   "outputs": [],
   "source": [
    "class Blank():\n",
    "    \n",
    "    def __init__(self, index, board, rows, columns, groups):\n",
    "        self.index = index\n",
    "        self.value = board[index]\n",
    "        self.board = board\n",
    "        self.row = rows[int(index/9)]\n",
    "        self.column = columns[index%9]\n",
    "        self.group = groups[self.group_index()]\n",
    "        self.possibles = self.find_possibles()\n",
    "        \n",
    "    def find_possibles(self):\n",
    "        possibilities = []\n",
    "        for num in range(1,10):\n",
    "            if num in self.row:\n",
    "                continue\n",
    "            if num in self.column:\n",
    "                continue\n",
    "            if num in self.group:\n",
    "                continue\n",
    "            possibilities.append(num)\n",
    "            \n",
    "        return possibilities\n",
    "    \n",
    "    def group_index(self):\n",
    "        row = int(self.index/9)\n",
    "        row = int(row/3)\n",
    "        grouping = int((self.index%9)/3)\n",
    "        return row*3+grouping"
   ]
  },
  {
   "cell_type": "markdown",
   "metadata": {},
   "source": [
    "The next cell is the Board class which is given a single paramter of *board* which is a list of 81 elements (9x9 grid). Based off of the board, methods are run to return lists of every row, column, and group in the board. These lists contain lists within them of numbers 1-9 or a 0 representing a blank. For example, *self.row[0][0]* would return the first number of the first row of the board. Then, the important **get_blanks** method is run where the program iterates through each number of the board and determines if it is filled and is constant or if it is a zero representing a blank. If it is zero, a Blank object is instantiated and added to the **blanks** list which contains each blank for the Board.\n",
    "\n",
    "Another very important method is the **best_child** method. In this method, the list of all blanks is sorted so that the blanks with the least number of possibilities in their *possibles list* are first. The first element of this list is selected to be the **chosen blank**. Then, random is used to randomly pop an item from the list and make a new board with that number (as opposed to a 0) filled in. Then, a Board object given this board as a parameter is returned. This returned object represents a state one move ahead of the parent. The logic is similar to that of how a human solves a sudoku. If a certain space only has 1 or 2 valid options instead of something like 5 or 6, it is much easier and more efficient to start with that because there will be less branching and fewer interations. "
   ]
  },
  {
   "cell_type": "code",
   "execution_count": 100,
   "metadata": {},
   "outputs": [],
   "source": [
    "class Board():\n",
    "    \n",
    "    def __init__(self, board):\n",
    "        self.board = board\n",
    "        self.rows = self.rows()\n",
    "        self.columns = self.columns()\n",
    "        self.groups = self.groups()\n",
    "        self.blanks = self.get_blanks()\n",
    "        self.num_blanks = self.count_blanks()\n",
    "        \n",
    "    def count_blanks(self):\n",
    "        num_blanks = 0\n",
    "        for box in self.board:\n",
    "            if int(box) == 0:\n",
    "                num_blanks += 1\n",
    "        return num_blanks\n",
    "    \n",
    "    def get_blanks(self):\n",
    "        blanks = []\n",
    "        for num in range(81):\n",
    "            if int(self.board[num]) == 0:\n",
    "                blanks.append(Blank(num, self.board, self.rows, self.columns, self.groups))\n",
    "        return blanks\n",
    "    \n",
    "    def columns(self):\n",
    "        columns = []\n",
    "        for num in range(9):\n",
    "            columns.append([0]*9)\n",
    "        for row_ in range(9):\n",
    "            for column_ in range(9):\n",
    "                index = row_*9 + column_\n",
    "                num = self.board[index]\n",
    "                columns[column_][row_] = int(num)\n",
    "        return columns\n",
    "    \n",
    "    def rows(self):\n",
    "        rows = []\n",
    "        for row_ in range(9):\n",
    "            row = []\n",
    "            for column_ in range(9):\n",
    "                index = row_*9 + column_\n",
    "                row.append(int(self.board[index]))\n",
    "            rows.append(row)\n",
    "        return rows\n",
    "    \n",
    "    def best_child(self):\n",
    "        best = sorted(self.blanks, key = lambda x: len(x.possibles))[0]\n",
    "        random_choice = random.randint(0, len(best.possibles)-1)\n",
    "        value = best.possibles.pop(random_choice)\n",
    "        new_board = copy.deepcopy(self.board)\n",
    "        new_board[best.index] = value\n",
    "        \n",
    "        return Board(new_board)\n",
    "    \n",
    "    def groups(self):\n",
    "        groups = []\n",
    "        rows = self.rows\n",
    "        \n",
    "        for num in range(9):\n",
    "            groups.append([])\n",
    "        \n",
    "        for num2 in range(9):\n",
    "            for index_ in range(9):\n",
    "                group_num = int(index_/3)\n",
    "                group_num2 = int(num2/3)\n",
    "                groups[group_num+group_num2*3].append(self.board[num2*9+index_])\n",
    "        \n",
    "        return groups\n",
    "                \n",
    "    def __str__(self):\n",
    "        s = ''\n",
    "        for row in range(9):\n",
    "            if row % 3 == 0 and row != 0:\n",
    "                s += '\\n'\n",
    "            for column in range(9):\n",
    "                if column % 3 == 0 and column != 0:\n",
    "                    s += '   '\n",
    "                index = row*9+column\n",
    "                num = self.board[index]\n",
    "                s += str(num)\n",
    "                s += '   '\n",
    "            s += '\\n'\n",
    "        return s\n",
    "    \n",
    "    def __eq__(self, other):\n",
    "        return self.board == other.board"
   ]
  },
  {
   "cell_type": "markdown",
   "metadata": {},
   "source": [
    "The **check_failed** method determines if a Board object has any blanks with no valid moves. This could happen after a random value is selected from the list of possibles and a child is created. While that move itself may have been valid, it made it so that another blank now has no moves which means it must have been an incorrect choice."
   ]
  },
  {
   "cell_type": "code",
   "execution_count": 101,
   "metadata": {},
   "outputs": [],
   "source": [
    "def check_failed(Board):\n",
    "    for blank in Board.blanks:\n",
    "        if len(blank.possibles) == 0:\n",
    "            return True\n",
    "    return False"
   ]
  },
  {
   "cell_type": "markdown",
   "metadata": {},
   "source": [
    "This is an **expert** puzzle from the sudoku website. the string split() method creates a list of every number passed into it as a string and casts them to int. So the test list is a list of 81 numbers representing a 9x9 sudoku puzzle."
   ]
  },
  {
   "cell_type": "code",
   "execution_count": 102,
   "metadata": {},
   "outputs": [],
   "source": [
    "test_s = '''\n",
    "5 0 0 0 0 0 0 0 0\n",
    "3 4 0 1 0 0 0 0 7\n",
    "0 9 0 0 0 6 0 0 0\n",
    "6 0 0 0 2 0 0 0 9\n",
    "0 0 4 9 8 0 1 0 0\n",
    "0 1 0 0 4 0 0 0 0\n",
    "0 0 0 0 0 3 0 2 6\n",
    "0 0 0 0 0 0 8 0 0\n",
    "9 0 0 0 0 0 3 4 0\n",
    "'''\n",
    "test = [int(x) for x in test_s.split()]"
   ]
  },
  {
   "cell_type": "markdown",
   "metadata": {},
   "source": [
    "The **solve** takes a puzzle (list of 81 numbers) and solves it. First, it instantiates the initial board using the puzzle paramter that was passed. It then creates lists for unvisited, meaning children that still have possibilities, and failed, meaning those states are unsolvable and thus a mistake along the way was made in selecting numbers for blanks.\n",
    "\n",
    "After the initial Board is appended to unvisited, a While loop begins that would be infite if not for the break statement when the puzzle is solved. First, it sorts the unvisited list, which will soon be populated with a large number of Board objects, by the number of blanks for that puzzle. So, as a certain way of solving the puzzle continues to progress and thus less and less blanks are present, that puzzle will continually be used as a parent. This way, our most promising options are exhausted first. This sort, as well as the way blanks are sorted within the puzzle by their number of posssibilities, is essential to program efficiency. Picking a random puzzle and then picking a random blank within that puzzle would take a massive amount of time, but by prioritizing parents who are closed to being solved and blanks within those parents that are easiest, efficiency is much better. \n",
    "\n",
    "After the best parent is selected and it is determined that it is a valid Board, a child is created. As long as the child is determined to be **not** *failed*, it is added to the unvisited list and the process repeats. This continues until the number of blanks of our best parent is 0 meaning we have filled in every blank in a valid manner. The program then prints the solved puzzle and breaks out of the loop."
   ]
  },
  {
   "cell_type": "code",
   "execution_count": 103,
   "metadata": {},
   "outputs": [],
   "source": [
    "def solve(puzzle):\n",
    "    initial = Board(puzzle)\n",
    "    unvisited = []\n",
    "    failed = []\n",
    "    unvisited.append(initial)\n",
    "    print(f'Start\\n{unvisited[0]}')\n",
    "    \n",
    "    while(True):\n",
    "        unvisited = sorted(unvisited, key = lambda x : x.num_blanks)\n",
    "        best = unvisited[0]    \n",
    "\n",
    "        if check_failed(best):\n",
    "            failed.append(unvisited.pop(0))\n",
    "            continue\n",
    "\n",
    "        if best.num_blanks == 0:\n",
    "            print('The Puzzle has been solved!\\n')\n",
    "            print(best)\n",
    "            return (best, failed, unvisited)\n",
    "            break\n",
    "\n",
    "        child = best.best_child()\n",
    "\n",
    "        if check_failed(child):\n",
    "            failed.append(child)\n",
    "        elif child not in unvisited:\n",
    "            unvisited.append(child)"
   ]
  },
  {
   "cell_type": "markdown",
   "metadata": {},
   "source": [
    "Below is a timed example solving the expert puzzle.\n",
    "**Note:** This puzzle is an illustration of an expert puzzle, most puzzles are solved much quicker than this one."
   ]
  },
  {
   "cell_type": "code",
   "execution_count": 104,
   "metadata": {},
   "outputs": [
    {
     "name": "stdout",
     "output_type": "stream",
     "text": [
      "Start\n",
      "5   0   0      0   0   0      0   0   0   \n",
      "3   4   0      1   0   0      0   0   7   \n",
      "0   9   0      0   0   6      0   0   0   \n",
      "\n",
      "6   0   0      0   2   0      0   0   9   \n",
      "0   0   4      9   8   0      1   0   0   \n",
      "0   1   0      0   4   0      0   0   0   \n",
      "\n",
      "0   0   0      0   0   3      0   2   6   \n",
      "0   0   0      0   0   0      8   0   0   \n",
      "9   0   0      0   0   0      3   4   0   \n",
      "\n",
      "The Puzzle has been solved!\n",
      "\n",
      "5   6   8      2   7   4      9   1   3   \n",
      "3   4   2      1   5   9      6   8   7   \n",
      "1   9   7      8   3   6      2   5   4   \n",
      "\n",
      "6   8   5      3   2   1      4   7   9   \n",
      "7   3   4      9   8   5      1   6   2   \n",
      "2   1   9      6   4   7      5   3   8   \n",
      "\n",
      "8   5   1      4   9   3      7   2   6   \n",
      "4   7   3      5   6   2      8   9   1   \n",
      "9   2   6      7   1   8      3   4   5   \n",
      "\n",
      "CPU times: user 2.81 s, sys: 76.1 ms, total: 2.89 s\n",
      "Wall time: 3.41 s\n"
     ]
    }
   ],
   "source": [
    "%%time\n",
    "best, failed, unvisited = solve(test)"
   ]
  },
  {
   "cell_type": "code",
   "execution_count": 105,
   "metadata": {},
   "outputs": [],
   "source": [
    "failed_blank = sorted(failed[0].blanks, key = lambda x : len(x.possibles))[0]"
   ]
  },
  {
   "cell_type": "code",
   "execution_count": 106,
   "metadata": {},
   "outputs": [
    {
     "name": "stdout",
     "output_type": "stream",
     "text": [
      "60\n"
     ]
    }
   ],
   "source": [
    "print(failed_blank.index)"
   ]
  },
  {
   "cell_type": "code",
   "execution_count": 107,
   "metadata": {},
   "outputs": [
    {
     "name": "stdout",
     "output_type": "stream",
     "text": [
      "5   7   1      8   3   9      4   6   2   \n",
      "3   4   6      1   5   2      9   8   7   \n",
      "8   9   2      4   7   6      5   1   3   \n",
      "\n",
      "6   0   0      3   2   1      7   0   9   \n",
      "2   0   4      9   8   7      1   0   0   \n",
      "7   1   0      6   4   5      2   3   0   \n",
      "\n",
      "0   0   0      0   0   3      0   2   6   \n",
      "0   0   0      0   0   0      8   0   0   \n",
      "9   0   0      0   0   0      3   4   0   \n",
      "\n"
     ]
    }
   ],
   "source": [
    "print(failed[0])"
   ]
  },
  {
   "cell_type": "markdown",
   "metadata": {},
   "source": [
    "Now that we have succcessfully created an algorithm to solve the Constraint Satisfaction Problem of Sudoku, we can do some data analysis by randomly generating and solving a large number of puzzles."
   ]
  },
  {
   "cell_type": "markdown",
   "metadata": {},
   "source": [
    "The **quiet_solve** method is the exact same logic as solve without the print statement so it an be run in a loop without massive output. \n",
    "\n",
    "It returns a tuple containing the best Object, the failed list, and the unvisited list."
   ]
  },
  {
   "cell_type": "code",
   "execution_count": 108,
   "metadata": {},
   "outputs": [],
   "source": [
    "def quiet_solve(puzzle):\n",
    "    initial = Board(puzzle)\n",
    "    unvisited = []\n",
    "    failed = []\n",
    "    unvisited.append(initial)\n",
    "    \n",
    "    while(True):\n",
    "        unvisited = sorted(unvisited, key = lambda x : x.num_blanks)\n",
    "        best = unvisited[0]    \n",
    "\n",
    "        if check_failed(best):\n",
    "            failed.append(unvisited.pop(0))\n",
    "            continue\n",
    "\n",
    "        if best.num_blanks == 0:\n",
    "            return(best, failed, unvisited)\n",
    "            break\n",
    "\n",
    "        child = best.best_child()\n",
    "\n",
    "        if check_failed(child):\n",
    "            failed.append(child)\n",
    "        elif child not in unvisited:\n",
    "            unvisited.append(child)"
   ]
  },
  {
   "cell_type": "markdown",
   "metadata": {},
   "source": [
    "The following two methods are used in our generation of random solvable puzzles. Originally, I thought this process would be arduos considering you have to ensure that every time you are putting a number to create a puzzle it is still valid and not interfering with the members of its row, column, and group. Thinking through it however, I realized that we had already made this procecss happen in our solve method. **All the program needs to generate a random puzzle (completely filled in) is to call the solve method but instead of passing a puzzle to solve we pass a list of 81 0's signifying a blank board**. Due to the element of random choice in our logic for selecting possibilities, this will continually fill in blanks with random choices but they will always be valid because it is selecting from only a list of valid choices. So, a seemingly long proecss takes only 2 lines.\n",
    "\n",
    "After we generate a random puzzle with every number filled in, the **encrypt method** is run to take out a certain amount of numbers and replace them with blanks since the puzzle is not very fun if it is already solved. This method leaves a random number between 41 and 71 blanks to be filled. The min of 41 and max of 71 can be altered if desired. It is in place beause the vast majority of sudoku puzzles are in this range and otherwise you may be solving some pretty useless sudokus like some that have only one value filled in or every valued filled but 2 for example."
   ]
  },
  {
   "cell_type": "code",
   "execution_count": null,
   "metadata": {},
   "outputs": [],
   "source": []
  },
  {
   "cell_type": "code",
   "execution_count": 113,
   "metadata": {},
   "outputs": [],
   "source": [
    "def encrypt(full):\n",
    "    new_board = copy.deepcopy(full.board)\n",
    "    num_to_erase = 81-random.randint(10,40)\n",
    "    for _ in range(num_to_erase):\n",
    "        to_erase = 0\n",
    "        random_index = 0\n",
    "        while(to_erase == 0):\n",
    "            random_index = random.randint(0,80)\n",
    "            to_erase = new_board[random_index]\n",
    "        new_board[random_index] = 0\n",
    "    return Board(new_board)"
   ]
  },
  {
   "cell_type": "code",
   "execution_count": 114,
   "metadata": {},
   "outputs": [],
   "source": [
    "def generate_puzzle():\n",
    "    blank_board = [0]*81\n",
    "    best, failed, unvisited = quiet_solve(blank_board)\n",
    "    return encrypt(best)"
   ]
  },
  {
   "cell_type": "markdown",
   "metadata": {},
   "source": [
    "The **get_enigma** method returns the enigma value of a board. The enigma value of a board is the sum of the length of all possible values for each blank. Essentially, it is a metric to compare board complexity (to a degree). For example, if we had only 2 blanks each with 3 possibilities, our total enigma would be 6. In pratie our enigma score will be far higher."
   ]
  },
  {
   "cell_type": "code",
   "execution_count": 115,
   "metadata": {},
   "outputs": [],
   "source": [
    "def get_enigma(board):\n",
    "    total = 0\n",
    "    for blank in board.blanks:\n",
    "        total += len(blank.possibles)\n",
    "    return total"
   ]
  },
  {
   "cell_type": "markdown",
   "metadata": {},
   "source": [
    "The **given** method returns the number of given values of a board. These are **not** values already filled in but instead are blanks on the board that have only one possibility. In this way they are not filled in but they are **given** since they require very minimal computing."
   ]
  },
  {
   "cell_type": "code",
   "execution_count": 116,
   "metadata": {},
   "outputs": [],
   "source": [
    "def given(board):\n",
    "    total = 0\n",
    "    for blank in board.blanks:\n",
    "        if len(blank.possibles) == 1:\n",
    "            total += 1\n",
    "    return total"
   ]
  },
  {
   "cell_type": "markdown",
   "metadata": {},
   "source": [
    "The **get_puzzle_info** method takes an intial puzzle and computes metrics such as the number of blanks, enigma value, number of given values. In addition, it computes the max_in_row, max_in_column, and max_in_group values. Each of these are the same concept which is that the value is computed by finding the number of filled tiles in each row group or column and then returns the maximum for each structure of row, group, and column. In this way, it can be another metric for board complexity. "
   ]
  },
  {
   "cell_type": "code",
   "execution_count": 117,
   "metadata": {},
   "outputs": [],
   "source": [
    "def get_puzzle_info(p):\n",
    "    num_blank = p.num_blanks\n",
    "    enigma_val = get_enigma(p)\n",
    "    given_tiles = given(p)\n",
    "    \n",
    "    max_in_row = 0\n",
    "    max_in_column = 0\n",
    "    max_in_group = 0\n",
    "       \n",
    "    for row in p.rows:\n",
    "        num = 0\n",
    "        for tile in row:\n",
    "            if tile == 0:\n",
    "                continue\n",
    "            else:\n",
    "                num += 1\n",
    "        if num > max_in_row:\n",
    "            max_in_row = num\n",
    "    \n",
    "    \n",
    "    for column in p.columns:\n",
    "        num = 0\n",
    "        for tile in column:     \n",
    "            if tile == 0:\n",
    "                continue\n",
    "            else:\n",
    "                num += 1\n",
    "        if num > max_in_column:\n",
    "            max_in_column = num\n",
    "        \n",
    "    for group in p.groups:\n",
    "        num = 0\n",
    "        for tile in group:\n",
    "            if tile == 0:\n",
    "                continue\n",
    "            else:\n",
    "                num += 1\n",
    "    if num > max_in_group:\n",
    "        max_in_group = num\n",
    "    \n",
    "    return (num_blank, enigma_val, given_tiles, max_in_row, max_in_column, max_in_group)"
   ]
  },
  {
   "cell_type": "markdown",
   "metadata": {},
   "source": [
    "The following code cells were run initially to generate a Pandas Dataframe containg information about over 2000 randomly generated puzzles. The puzzles were then solved and the time to solve them was computed. In the end, the dataframe has info about each calculate metric of a puzzle and its time to solve which can help us visualize what exactly makes a Sudoku puzzle difficult. Feel free to change these cells back to code and run them but you may want to break out of the loop as it takes quite a bit for the loop to finish since it is such a large number of puzzles to solve with the possibility of edge cases that take longer due to random generation."
   ]
  },
  {
   "cell_type": "raw",
   "metadata": {},
   "source": [
    "num_blanks = []\n",
    "num_fails = []\n",
    "elapsed_times = []\n",
    "enigmas = []\n",
    "given_tiles = []\n",
    "max_in_rows = []\n",
    "max_in_columns = []\n",
    "max_in_groups = []\n",
    "for i in tqdm(range(2250)):\n",
    "    \n",
    "    p = generate_puzzle()\n",
    "    puzzle = p.board\n",
    "    \n",
    "    start_time = time.time() \n",
    "    best, failed, unvisited = quiet_solve(puzzle)\n",
    "    elapsed_time = time.time()-start_time\n",
    "    \n",
    "    num_fails.append(len(failed))\n",
    "    elapsed_times.append(elapsed_time)\n",
    "    num_blank, enigma, given_tile_num, max_in_row, max_in_column, max_in_group = get_puzzle_info(p)\n",
    "    num_blanks.append(num_blank)\n",
    "    enigmas.append(enigma)\n",
    "    given_tiles.append(given_tile_num)\n",
    "    max_in_rows.append(max_in_row)\n",
    "    max_in_columns.append(max_in_column)\n",
    "    max_in_groups.append(max_in_group)"
   ]
  },
  {
   "cell_type": "raw",
   "metadata": {},
   "source": [
    "fails_df = pd.DataFrame(num_fails)\n",
    "blanks_df = pd.DataFrame(num_blanks)\n",
    "enigma_df = pd.DataFrame(enigmas)\n",
    "given_df = pd.DataFrame(given_tiles)\n",
    "max_row_df = pd.DataFrame(max_in_rows)\n",
    "max_column_df = pd.DataFrame(max_in_columns)\n",
    "max_group_df = pd.DataFrame(max_in_groups)\n",
    "df = pd.DataFrame(elapsed_times, columns = ['Elapsed_Time'])\n",
    "df['Number_of_Fails'] = fails_df\n",
    "df['Number_of_Blanks'] = blanks_df\n",
    "df['Total_Enigma'] = enigma_df\n",
    "df['Given'] = given_df\n",
    "df['Max_in_Row'] = max_row_df\n",
    "df['Max_in_Column'] = max_column_df\n",
    "df['Max_in_Group'] = max_group_df"
   ]
  },
  {
   "cell_type": "raw",
   "metadata": {},
   "source": [
    "mean_time = df['Elapsed_Time'].median()\n",
    "std_time = df['Elapsed_Time'].quantile(.75)-df['Elapsed_Time'].quantile(.25)\n",
    "maximum = mean_time + 2*std_time\n",
    "minimum = mean_time - 2*std_time\n",
    "print(maximum)\n",
    "print(minimum)\n",
    "\n",
    "df = df[df['Elapsed_Time'] <= maximum]\n",
    "df = df[df['Elapsed_Time'] >= minimum]"
   ]
  },
  {
   "cell_type": "markdown",
   "metadata": {},
   "source": [
    "After running the previous cells, I stored the dataframe in a pickle file so it can be read in without having to re-run the trials again. The dataframe contains every trial that was not an outlier. Outliers were anything that is a statistical outlier meaning $median(T) + 2*IQR(T) < T_i$ or $median(T) - 2*IQR(T) > T_i$ where $T$ is the distribution of all elapsed times and $T_i$ is the time for a given puzzle We will name the dataframe with a highly original *df*"
   ]
  },
  {
   "cell_type": "code",
   "execution_count": 118,
   "metadata": {},
   "outputs": [],
   "source": [
    "df = pd.read_pickle('solve_data')"
   ]
  },
  {
   "cell_type": "code",
   "execution_count": 119,
   "metadata": {},
   "outputs": [],
   "source": [
    "df.set_index('index', inplace = True)"
   ]
  },
  {
   "cell_type": "code",
   "execution_count": 120,
   "metadata": {},
   "outputs": [
    {
     "data": {
      "text/html": [
       "<div>\n",
       "<style scoped>\n",
       "    .dataframe tbody tr th:only-of-type {\n",
       "        vertical-align: middle;\n",
       "    }\n",
       "\n",
       "    .dataframe tbody tr th {\n",
       "        vertical-align: top;\n",
       "    }\n",
       "\n",
       "    .dataframe thead th {\n",
       "        text-align: right;\n",
       "    }\n",
       "</style>\n",
       "<table border=\"1\" class=\"dataframe\">\n",
       "  <thead>\n",
       "    <tr style=\"text-align: right;\">\n",
       "      <th></th>\n",
       "      <th>Elapsed_Time</th>\n",
       "      <th>Number_of_Fails</th>\n",
       "      <th>Number_of_Blanks</th>\n",
       "      <th>Total_Enigma</th>\n",
       "      <th>Given</th>\n",
       "      <th>Max_in_Row</th>\n",
       "      <th>Max_in_Column</th>\n",
       "      <th>Max_in_Group</th>\n",
       "    </tr>\n",
       "    <tr>\n",
       "      <th>index</th>\n",
       "      <th></th>\n",
       "      <th></th>\n",
       "      <th></th>\n",
       "      <th></th>\n",
       "      <th></th>\n",
       "      <th></th>\n",
       "      <th></th>\n",
       "      <th></th>\n",
       "    </tr>\n",
       "  </thead>\n",
       "  <tbody>\n",
       "    <tr>\n",
       "      <th>1</th>\n",
       "      <td>0.044927</td>\n",
       "      <td>11</td>\n",
       "      <td>71</td>\n",
       "      <td>477</td>\n",
       "      <td>0</td>\n",
       "      <td>4</td>\n",
       "      <td>2</td>\n",
       "      <td>1</td>\n",
       "    </tr>\n",
       "    <tr>\n",
       "      <th>3</th>\n",
       "      <td>0.032063</td>\n",
       "      <td>3</td>\n",
       "      <td>63</td>\n",
       "      <td>319</td>\n",
       "      <td>0</td>\n",
       "      <td>4</td>\n",
       "      <td>4</td>\n",
       "      <td>1</td>\n",
       "    </tr>\n",
       "    <tr>\n",
       "      <th>4</th>\n",
       "      <td>0.031230</td>\n",
       "      <td>0</td>\n",
       "      <td>71</td>\n",
       "      <td>474</td>\n",
       "      <td>0</td>\n",
       "      <td>4</td>\n",
       "      <td>3</td>\n",
       "      <td>0</td>\n",
       "    </tr>\n",
       "    <tr>\n",
       "      <th>5</th>\n",
       "      <td>0.052269</td>\n",
       "      <td>63</td>\n",
       "      <td>57</td>\n",
       "      <td>260</td>\n",
       "      <td>0</td>\n",
       "      <td>5</td>\n",
       "      <td>5</td>\n",
       "      <td>1</td>\n",
       "    </tr>\n",
       "    <tr>\n",
       "      <th>6</th>\n",
       "      <td>0.041614</td>\n",
       "      <td>18</td>\n",
       "      <td>68</td>\n",
       "      <td>407</td>\n",
       "      <td>0</td>\n",
       "      <td>4</td>\n",
       "      <td>3</td>\n",
       "      <td>1</td>\n",
       "    </tr>\n",
       "  </tbody>\n",
       "</table>\n",
       "</div>"
      ],
      "text/plain": [
       "       Elapsed_Time  Number_of_Fails  Number_of_Blanks  Total_Enigma  Given  \\\n",
       "index                                                                         \n",
       "1          0.044927               11                71           477      0   \n",
       "3          0.032063                3                63           319      0   \n",
       "4          0.031230                0                71           474      0   \n",
       "5          0.052269               63                57           260      0   \n",
       "6          0.041614               18                68           407      0   \n",
       "\n",
       "       Max_in_Row  Max_in_Column  Max_in_Group  \n",
       "index                                           \n",
       "1               4              2             1  \n",
       "3               4              4             1  \n",
       "4               4              3             0  \n",
       "5               5              5             1  \n",
       "6               4              3             1  "
      ]
     },
     "execution_count": 120,
     "metadata": {},
     "output_type": "execute_result"
    }
   ],
   "source": [
    "df.head()"
   ]
  },
  {
   "cell_type": "code",
   "execution_count": 121,
   "metadata": {},
   "outputs": [
    {
     "data": {
      "text/plain": [
       "2036"
      ]
     },
     "execution_count": 121,
     "metadata": {},
     "output_type": "execute_result"
    }
   ],
   "source": [
    "len(df)"
   ]
  },
  {
   "cell_type": "markdown",
   "metadata": {},
   "source": [
    "The describe method gives us some numbers on whichever column we pass or the entire dataframe if desired. Here it is breaking down all 2036 of our elapsed times."
   ]
  },
  {
   "cell_type": "code",
   "execution_count": 122,
   "metadata": {},
   "outputs": [
    {
     "data": {
      "text/plain": [
       "count    2036.000000\n",
       "mean        0.027937\n",
       "std         0.009972\n",
       "min         0.012203\n",
       "25%         0.019671\n",
       "50%         0.027242\n",
       "75%         0.033993\n",
       "max         0.061513\n",
       "Name: Elapsed_Time, dtype: float64"
      ]
     },
     "execution_count": 122,
     "metadata": {},
     "output_type": "execute_result"
    }
   ],
   "source": [
    "df['Elapsed_Time'].describe()"
   ]
  },
  {
   "cell_type": "markdown",
   "metadata": {},
   "source": [
    "The following plot shows us the distribution of the number of blanks for each of our 2036 puzzles."
   ]
  },
  {
   "cell_type": "code",
   "execution_count": 123,
   "metadata": {},
   "outputs": [
    {
     "data": {
      "text/plain": [
       "<matplotlib.axes._subplots.AxesSubplot at 0x7f9a3a469278>"
      ]
     },
     "execution_count": 123,
     "metadata": {},
     "output_type": "execute_result"
    },
    {
     "data": {
      "image/png": "[encoded data removed]",
      "text/plain": [
       "<Figure size 1080x576 with 1 Axes>"
      ]
     },
     "metadata": {
      "needs_background": "light"
     },
     "output_type": "display_data"
    }
   ],
   "source": [
    "fig = plt.figure(figsize = (15, 8))\n",
    "sns.countplot(df['Number_of_Blanks'])"
   ]
  },
  {
   "cell_type": "markdown",
   "metadata": {},
   "source": [
    "The following plot shows the trend downwards of time when compared to the number of given values. **This clues us in that their may be good ways to estimate time with certain easily computable metrics.**"
   ]
  },
  {
   "cell_type": "code",
   "execution_count": 124,
   "metadata": {},
   "outputs": [
    {
     "data": {
      "text/plain": [
       "<matplotlib.axes._subplots.AxesSubplot at 0x7f9a4330f2e8>"
      ]
     },
     "execution_count": 124,
     "metadata": {},
     "output_type": "execute_result"
    },
    {
     "data": {
      "image/png": "[encoded data removed]",
      "text/plain": [
       "<Figure size 1080x576 with 1 Axes>"
      ]
     },
     "metadata": {
      "needs_background": "light"
     },
     "output_type": "display_data"
    }
   ],
   "source": [
    "fig = plt.figure(figsize = (15, 8))\n",
    "sns.barplot(x = df['Given'], y = df['Elapsed_Time'])"
   ]
  },
  {
   "cell_type": "markdown",
   "metadata": {},
   "source": [
    "The following is a **Heatmap** showing the coorelation between each column of the dataframe. The important row to look at is the first one which shows how each metric coorelates to elapsed_time. We see a relatively **direct** coorelation between elapsed_time and metrics like number_of_blanks meaning more blanks more time to solve whereas there appears to be an **inverse** coorelation between things like Max_in_Row and elapsed_time meaning the more in a row the easier a puzzle is to solve. Both of these findings are logical if we think about the way in which Sudoku is solved."
   ]
  },
  {
   "cell_type": "code",
   "execution_count": 125,
   "metadata": {},
   "outputs": [
    {
     "data": {
      "text/plain": [
       "<matplotlib.axes._subplots.AxesSubplot at 0x7f9a4f762b70>"
      ]
     },
     "execution_count": 125,
     "metadata": {},
     "output_type": "execute_result"
    },
    {
     "data": {
      "image/png": "[encoded data removed]",
      "text/plain": [
       "<Figure size 1080x576 with 2 Axes>"
      ]
     },
     "metadata": {
      "needs_background": "light"
     },
     "output_type": "display_data"
    }
   ],
   "source": [
    "fig = plt.figure(figsize = (15, 8))\n",
    "sns.heatmap(df.corr(), cmap = 'seismic', annot = True)"
   ]
  },
  {
   "cell_type": "markdown",
   "metadata": {},
   "source": [
    "Our next interesting task is something a website like sudoku.com may be faced with. Generating large amounts of random puzzles for users to solve. However, how should we determine the difficulty of these? We ccould solve them with the computer and track the amount of time that takes. However, especially as the number of puzzles needed grows immensely, solving each one would be ardous. Instead, we can use the information we have between the relationship of easily calcuclated metrics and the time it takes to solve a puzzle. We can create a linear regression model to look at a puzzle and determine how long it **thinks** it will take to solve as opposed to actually having to solve it. Will this be that much more efficient, however? Let's find out..."
   ]
  },
  {
   "cell_type": "markdown",
   "metadata": {},
   "source": [
    "ML Model"
   ]
  },
  {
   "cell_type": "code",
   "execution_count": 126,
   "metadata": {},
   "outputs": [],
   "source": [
    "from sklearn.model_selection import train_test_split\n",
    "from sklearn.linear_model import LinearRegression"
   ]
  },
  {
   "cell_type": "markdown",
   "metadata": {},
   "source": [
    "First, we are going to make **X** the seletion of our dataframe we want the model to know before guessing. This includes the metrics like number_of_blanks, enigma, max_in_row, etc."
   ]
  },
  {
   "cell_type": "code",
   "execution_count": 127,
   "metadata": {},
   "outputs": [
    {
     "data": {
      "text/html": [
       "<div>\n",
       "<style scoped>\n",
       "    .dataframe tbody tr th:only-of-type {\n",
       "        vertical-align: middle;\n",
       "    }\n",
       "\n",
       "    .dataframe tbody tr th {\n",
       "        vertical-align: top;\n",
       "    }\n",
       "\n",
       "    .dataframe thead th {\n",
       "        text-align: right;\n",
       "    }\n",
       "</style>\n",
       "<table border=\"1\" class=\"dataframe\">\n",
       "  <thead>\n",
       "    <tr style=\"text-align: right;\">\n",
       "      <th></th>\n",
       "      <th>Number_of_Blanks</th>\n",
       "      <th>Total_Enigma</th>\n",
       "      <th>Given</th>\n",
       "      <th>Max_in_Row</th>\n",
       "      <th>Max_in_Column</th>\n",
       "      <th>Max_in_Group</th>\n",
       "    </tr>\n",
       "    <tr>\n",
       "      <th>index</th>\n",
       "      <th></th>\n",
       "      <th></th>\n",
       "      <th></th>\n",
       "      <th></th>\n",
       "      <th></th>\n",
       "      <th></th>\n",
       "    </tr>\n",
       "  </thead>\n",
       "  <tbody>\n",
       "    <tr>\n",
       "      <th>1</th>\n",
       "      <td>71</td>\n",
       "      <td>477</td>\n",
       "      <td>0</td>\n",
       "      <td>4</td>\n",
       "      <td>2</td>\n",
       "      <td>1</td>\n",
       "    </tr>\n",
       "    <tr>\n",
       "      <th>3</th>\n",
       "      <td>63</td>\n",
       "      <td>319</td>\n",
       "      <td>0</td>\n",
       "      <td>4</td>\n",
       "      <td>4</td>\n",
       "      <td>1</td>\n",
       "    </tr>\n",
       "    <tr>\n",
       "      <th>4</th>\n",
       "      <td>71</td>\n",
       "      <td>474</td>\n",
       "      <td>0</td>\n",
       "      <td>4</td>\n",
       "      <td>3</td>\n",
       "      <td>0</td>\n",
       "    </tr>\n",
       "    <tr>\n",
       "      <th>5</th>\n",
       "      <td>57</td>\n",
       "      <td>260</td>\n",
       "      <td>0</td>\n",
       "      <td>5</td>\n",
       "      <td>5</td>\n",
       "      <td>1</td>\n",
       "    </tr>\n",
       "    <tr>\n",
       "      <th>6</th>\n",
       "      <td>68</td>\n",
       "      <td>407</td>\n",
       "      <td>0</td>\n",
       "      <td>4</td>\n",
       "      <td>3</td>\n",
       "      <td>1</td>\n",
       "    </tr>\n",
       "  </tbody>\n",
       "</table>\n",
       "</div>"
      ],
      "text/plain": [
       "       Number_of_Blanks  Total_Enigma  Given  Max_in_Row  Max_in_Column  \\\n",
       "index                                                                     \n",
       "1                    71           477      0           4              2   \n",
       "3                    63           319      0           4              4   \n",
       "4                    71           474      0           4              3   \n",
       "5                    57           260      0           5              5   \n",
       "6                    68           407      0           4              3   \n",
       "\n",
       "       Max_in_Group  \n",
       "index                \n",
       "1                 1  \n",
       "3                 1  \n",
       "4                 0  \n",
       "5                 1  \n",
       "6                 1  "
      ]
     },
     "execution_count": 127,
     "metadata": {},
     "output_type": "execute_result"
    }
   ],
   "source": [
    "X = df.drop(['Elapsed_Time', 'Number_of_Fails'], axis = 1)\n",
    "X.head()"
   ]
  },
  {
   "cell_type": "markdown",
   "metadata": {},
   "source": [
    "Then we will make **y** the column we want the model to predit based off of **X**. "
   ]
  },
  {
   "cell_type": "code",
   "execution_count": 128,
   "metadata": {},
   "outputs": [
    {
     "data": {
      "text/plain": [
       "index\n",
       "1    0.044927\n",
       "3    0.032063\n",
       "4    0.031230\n",
       "5    0.052269\n",
       "6    0.041614\n",
       "Name: Elapsed_Time, dtype: float64"
      ]
     },
     "execution_count": 128,
     "metadata": {},
     "output_type": "execute_result"
    }
   ],
   "source": [
    "y = df['Elapsed_Time']\n",
    "y.head()"
   ]
  },
  {
   "cell_type": "markdown",
   "metadata": {},
   "source": [
    "**train_test_split** takes our X and y and randomly splits it into batches of training and test data. We use tuple unpacking to store each of them under the proper name. In this case, we chose to use 1/3 of the data as test (2/3 as training)."
   ]
  },
  {
   "cell_type": "code",
   "execution_count": 129,
   "metadata": {},
   "outputs": [],
   "source": [
    "X_train, X_test, y_train, y_test = train_test_split(X, y, test_size=0.33, random_state=42)"
   ]
  },
  {
   "cell_type": "code",
   "execution_count": 130,
   "metadata": {},
   "outputs": [],
   "source": [
    "model = LinearRegression()"
   ]
  },
  {
   "cell_type": "markdown",
   "metadata": {},
   "source": [
    "Here we see the beauty of sklearn. It is important to know what is going on behind the scenes of linear regression to be more effective in ML/AI. However, all it takes is one line of code to fit a model to data."
   ]
  },
  {
   "cell_type": "code",
   "execution_count": 131,
   "metadata": {},
   "outputs": [
    {
     "name": "stdout",
     "output_type": "stream",
     "text": [
      "CPU times: user 4.2 ms, sys: 781 µs, total: 4.98 ms\n",
      "Wall time: 5.71 ms\n"
     ]
    },
    {
     "data": {
      "text/plain": [
       "LinearRegression()"
      ]
     },
     "execution_count": 131,
     "metadata": {},
     "output_type": "execute_result"
    }
   ],
   "source": [
    "%%time\n",
    "model.fit(X_train, y_train)"
   ]
  },
  {
   "cell_type": "markdown",
   "metadata": {},
   "source": [
    "The formula for linear regression is:\n",
    "$Y = B_0 + B_1*X_1 + B_2*X_2 + B_3*X_3...etc$ where $B_0$ is a constant, $B_i$ is a coefficcient and $X_i$ is a puzzle metric \n",
    "\n",
    "In the cell below, we can print the coefficients assoiated with each value. Essentially, the model is adjusting coefficients and constants so that when puzzle values are entered into the formula, the predicted Y value is extremely close to the actual Y. It is hard to tell as humans what these coefficients really mean but still cool to see."
   ]
  },
  {
   "cell_type": "code",
   "execution_count": 132,
   "metadata": {},
   "outputs": [
    {
     "name": "stdout",
     "output_type": "stream",
     "text": [
      "[ 1.16346600e-03 -5.10911169e-05 -5.95666308e-04 -1.43188833e-04\n",
      " -2.94746671e-04  2.86180052e-04]\n"
     ]
    }
   ],
   "source": [
    "print(model.coef_)"
   ]
  },
  {
   "cell_type": "markdown",
   "metadata": {},
   "source": [
    "We will know use our trained model to predict how long a puzzle will take to solve without having to solve it."
   ]
  },
  {
   "cell_type": "code",
   "execution_count": 133,
   "metadata": {},
   "outputs": [
    {
     "name": "stdout",
     "output_type": "stream",
     "text": [
      "CPU times: user 2.87 ms, sys: 66 µs, total: 2.94 ms\n",
      "Wall time: 3.04 ms\n"
     ]
    }
   ],
   "source": [
    "%%time\n",
    "predictions = model.predict(X_test)"
   ]
  },
  {
   "cell_type": "markdown",
   "metadata": {},
   "source": [
    "The following is a scatterplot showing the atual value on the x-axis compared to the predicted value on the Y. As we an see, the model is pretty acccurate."
   ]
  },
  {
   "cell_type": "code",
   "execution_count": 134,
   "metadata": {},
   "outputs": [
    {
     "data": {
      "text/plain": [
       "Text(0, 0.5, 'Predicted Y')"
      ]
     },
     "execution_count": 134,
     "metadata": {},
     "output_type": "execute_result"
    },
    {
     "data": {
      "image/png": "[encoded data removed]",
      "text/plain": [
       "<Figure size 432x288 with 1 Axes>"
      ]
     },
     "metadata": {
      "needs_background": "light"
     },
     "output_type": "display_data"
    }
   ],
   "source": [
    "plt.scatter(y_test,predictions)\n",
    "plt.xlabel('Y Test')\n",
    "plt.ylabel('Predicted Y')"
   ]
  },
  {
   "cell_type": "markdown",
   "metadata": {},
   "source": [
    "Another thing we can use is metrics from sklearn to show error. Our Mean Absolute Error is around .005 seconds"
   ]
  },
  {
   "cell_type": "code",
   "execution_count": 135,
   "metadata": {},
   "outputs": [
    {
     "name": "stdout",
     "output_type": "stream",
     "text": [
      "MAE: 0.005257761912290874\n"
     ]
    }
   ],
   "source": [
    "# calculate accuracy metrics for time prediction\n",
    "from sklearn import metrics\n",
    "print('MAE:', metrics.mean_absolute_error(y_test, predictions))"
   ]
  },
  {
   "cell_type": "markdown",
   "metadata": {},
   "source": [
    "The code block below is creating 250 random puzzles and adding them and their metrics to a dataframe"
   ]
  },
  {
   "cell_type": "code",
   "execution_count": 136,
   "metadata": {},
   "outputs": [
    {
     "name": "stderr",
     "output_type": "stream",
     "text": [
      "100%|██████████| 250/250 [00:18<00:00, 13.68it/s]"
     ]
    },
    {
     "name": "stdout",
     "output_type": "stream",
     "text": [
      "CPU times: user 15.9 s, sys: 269 ms, total: 16.1 s\n",
      "Wall time: 18.3 s\n"
     ]
    },
    {
     "name": "stderr",
     "output_type": "stream",
     "text": [
      "\n"
     ]
    }
   ],
   "source": [
    "%%time\n",
    "num_blanks = []\n",
    "enigmas = []\n",
    "given_tiles = []\n",
    "max_in_rows = []\n",
    "max_in_columns = []\n",
    "max_in_groups = []\n",
    "puzzle_list = []\n",
    "for i in tqdm(range(250)):\n",
    "    p = generate_puzzle()\n",
    "    puzzle_list.append(p)\n",
    "\n",
    "    num_blank, enigma, given_tile_num, max_in_row, max_in_column, max_in_group = get_puzzle_info(p)\n",
    "    num_blanks.append(num_blank)\n",
    "    enigmas.append(enigma)\n",
    "    given_tiles.append(given_tile_num)\n",
    "    max_in_rows.append(max_in_row)\n",
    "    max_in_columns.append(max_in_column)\n",
    "    max_in_groups.append(max_in_group)"
   ]
  },
  {
   "cell_type": "code",
   "execution_count": 137,
   "metadata": {},
   "outputs": [],
   "source": [
    "enigma_df = pd.DataFrame(enigmas)\n",
    "blanks_df = pd.DataFrame(num_blanks)\n",
    "given_df = pd.DataFrame(given_tiles)\n",
    "max_row_df = pd.DataFrame(max_in_rows)\n",
    "max_column_df = pd.DataFrame(max_in_columns)\n",
    "max_group_df = pd.DataFrame(max_in_groups)\n",
    "puzzles_df = pd.DataFrame(puzzle_list, columns = ['Puzzle'])\n",
    "puzzles_df['Number_of_Blanks'] = blanks_df\n",
    "puzzles_df['Total_Enigma'] = enigma_df\n",
    "puzzles_df['Given'] = given_df\n",
    "puzzles_df['Max_in_Row'] = max_row_df\n",
    "puzzles_df['Max_in_Column'] = max_column_df\n",
    "puzzles_df['Max_in_Group'] = max_group_df"
   ]
  },
  {
   "cell_type": "code",
   "execution_count": 139,
   "metadata": {},
   "outputs": [
    {
     "data": {
      "text/html": [
       "<div>\n",
       "<style scoped>\n",
       "    .dataframe tbody tr th:only-of-type {\n",
       "        vertical-align: middle;\n",
       "    }\n",
       "\n",
       "    .dataframe tbody tr th {\n",
       "        vertical-align: top;\n",
       "    }\n",
       "\n",
       "    .dataframe thead th {\n",
       "        text-align: right;\n",
       "    }\n",
       "</style>\n",
       "<table border=\"1\" class=\"dataframe\">\n",
       "  <thead>\n",
       "    <tr style=\"text-align: right;\">\n",
       "      <th></th>\n",
       "      <th>Puzzle</th>\n",
       "      <th>Number_of_Blanks</th>\n",
       "      <th>Total_Enigma</th>\n",
       "      <th>Given</th>\n",
       "      <th>Max_in_Row</th>\n",
       "      <th>Max_in_Column</th>\n",
       "      <th>Max_in_Group</th>\n",
       "    </tr>\n",
       "  </thead>\n",
       "  <tbody>\n",
       "    <tr>\n",
       "      <th>0</th>\n",
       "      <td>0   5   0      0   2   0      0   0   0   \\n0 ...</td>\n",
       "      <td>55</td>\n",
       "      <td>229</td>\n",
       "      <td>0</td>\n",
       "      <td>4</td>\n",
       "      <td>5</td>\n",
       "      <td>3</td>\n",
       "    </tr>\n",
       "    <tr>\n",
       "      <th>1</th>\n",
       "      <td>0   0   0      0   0   0      0   0   0   \\n7 ...</td>\n",
       "      <td>58</td>\n",
       "      <td>257</td>\n",
       "      <td>1</td>\n",
       "      <td>5</td>\n",
       "      <td>6</td>\n",
       "      <td>2</td>\n",
       "    </tr>\n",
       "    <tr>\n",
       "      <th>2</th>\n",
       "      <td>8   0   0      0   5   9      0   4   0   \\n0 ...</td>\n",
       "      <td>53</td>\n",
       "      <td>202</td>\n",
       "      <td>0</td>\n",
       "      <td>6</td>\n",
       "      <td>5</td>\n",
       "      <td>4</td>\n",
       "    </tr>\n",
       "    <tr>\n",
       "      <th>3</th>\n",
       "      <td>4   0   2      5   0   0      3   9   6   \\n3 ...</td>\n",
       "      <td>42</td>\n",
       "      <td>102</td>\n",
       "      <td>8</td>\n",
       "      <td>6</td>\n",
       "      <td>8</td>\n",
       "      <td>4</td>\n",
       "    </tr>\n",
       "    <tr>\n",
       "      <th>4</th>\n",
       "      <td>6   0   4      0   0   0      9   0   0   \\n0 ...</td>\n",
       "      <td>70</td>\n",
       "      <td>458</td>\n",
       "      <td>0</td>\n",
       "      <td>3</td>\n",
       "      <td>4</td>\n",
       "      <td>1</td>\n",
       "    </tr>\n",
       "  </tbody>\n",
       "</table>\n",
       "</div>"
      ],
      "text/plain": [
       "                                              Puzzle  Number_of_Blanks  \\\n",
       "0  0   5   0      0   2   0      0   0   0   \\n0 ...                55   \n",
       "1  0   0   0      0   0   0      0   0   0   \\n7 ...                58   \n",
       "2  8   0   0      0   5   9      0   4   0   \\n0 ...                53   \n",
       "3  4   0   2      5   0   0      3   9   6   \\n3 ...                42   \n",
       "4  6   0   4      0   0   0      9   0   0   \\n0 ...                70   \n",
       "\n",
       "   Total_Enigma  Given  Max_in_Row  Max_in_Column  Max_in_Group  \n",
       "0           229      0           4              5             3  \n",
       "1           257      1           5              6             2  \n",
       "2           202      0           6              5             4  \n",
       "3           102      8           6              8             4  \n",
       "4           458      0           3              4             1  "
      ]
     },
     "execution_count": 139,
     "metadata": {},
     "output_type": "execute_result"
    }
   ],
   "source": [
    "puzzles_df.head(5)"
   ]
  },
  {
   "cell_type": "markdown",
   "metadata": {},
   "source": [
    "**Feel free to break out of the loop below.** It is iterating through each of the 250 radomly generated puzzles and solving them. This is meant to show how classification of difficulty would be if we had to solve each puzzle. As you can see, it is not *slow* but especially as numbers increased it would take quite a bit of time."
   ]
  },
  {
   "cell_type": "code",
   "execution_count": null,
   "metadata": {},
   "outputs": [],
   "source": [
    "for puzzle in tqdm(puzzles_df['Puzzle'].to_list()):\n",
    "    quiet_solve(puzzle.board)"
   ]
  },
  {
   "cell_type": "markdown",
   "metadata": {},
   "source": [
    "Instead lets see how long our model will take to predict elapsed times for each of our randomly generated puzzles."
   ]
  },
  {
   "cell_type": "code",
   "execution_count": 141,
   "metadata": {},
   "outputs": [
    {
     "name": "stdout",
     "output_type": "stream",
     "text": [
      "CPU times: user 4.8 ms, sys: 400 µs, total: 5.2 ms\n",
      "Wall time: 5.01 ms\n"
     ]
    }
   ],
   "source": [
    "%%time\n",
    "predicted_times = model.predict(puzzles_df.drop('Puzzle', axis = 1))"
   ]
  },
  {
   "cell_type": "markdown",
   "metadata": {},
   "source": [
    "The model is extremely fast and far outpaces solving each one individually. While it may not be quite as accurate as solving them, in this case, the lost accuracy is minimal and has minimal effect on our result whereas the gained time is signifigant."
   ]
  },
  {
   "cell_type": "code",
   "execution_count": 142,
   "metadata": {},
   "outputs": [],
   "source": [
    "puzzles_df['predicted_time'] = pd.DataFrame(predicted_times)"
   ]
  },
  {
   "cell_type": "markdown",
   "metadata": {},
   "source": [
    "Now, we will use our times in the dataframe to determine the difficulty of a puzzle. The cell below determines the 33rd percentile and 66th percentile. If a predicted elapsed_time for a puzzle is less than the 33rd it is marked as easy, if it is greter than 33rd but less than 66th it is considered medium, and greater than 66th is considered hard. We then add these values in the dataframe to see it visually."
   ]
  },
  {
   "cell_type": "code",
   "execution_count": 143,
   "metadata": {},
   "outputs": [],
   "source": [
    "easy_cutoff = puzzles_df['predicted_time'].quantile(.33)\n",
    "medium_cutoff = puzzles_df['predicted_time'].quantile(.66)\n",
    "difficulties = []\n",
    "\n",
    "for index, row in puzzles_df.iterrows():\n",
    "    if row['predicted_time'] < easy_cutoff:\n",
    "        difficulties.append('Easy')\n",
    "    elif row['predicted_time'] < medium_cutoff:\n",
    "        difficulties.append('Medium')\n",
    "    else:\n",
    "        difficulties.append('Hard')\n",
    "puzzles_df['Difficulty'] = pd.DataFrame(difficulties)"
   ]
  },
  {
   "cell_type": "code",
   "execution_count": 146,
   "metadata": {},
   "outputs": [
    {
     "data": {
      "text/html": [
       "<div>\n",
       "<style scoped>\n",
       "    .dataframe tbody tr th:only-of-type {\n",
       "        vertical-align: middle;\n",
       "    }\n",
       "\n",
       "    .dataframe tbody tr th {\n",
       "        vertical-align: top;\n",
       "    }\n",
       "\n",
       "    .dataframe thead th {\n",
       "        text-align: right;\n",
       "    }\n",
       "</style>\n",
       "<table border=\"1\" class=\"dataframe\">\n",
       "  <thead>\n",
       "    <tr style=\"text-align: right;\">\n",
       "      <th></th>\n",
       "      <th>Puzzle</th>\n",
       "      <th>Number_of_Blanks</th>\n",
       "      <th>Total_Enigma</th>\n",
       "      <th>Given</th>\n",
       "      <th>Max_in_Row</th>\n",
       "      <th>Max_in_Column</th>\n",
       "      <th>Max_in_Group</th>\n",
       "      <th>predicted_time</th>\n",
       "      <th>Difficulty</th>\n",
       "    </tr>\n",
       "  </thead>\n",
       "  <tbody>\n",
       "    <tr>\n",
       "      <th>0</th>\n",
       "      <td>0   5   0      0   2   0      0   0   0   \\n0 ...</td>\n",
       "      <td>55</td>\n",
       "      <td>229</td>\n",
       "      <td>0</td>\n",
       "      <td>4</td>\n",
       "      <td>5</td>\n",
       "      <td>3</td>\n",
       "      <td>0.029461</td>\n",
       "      <td>Medium</td>\n",
       "    </tr>\n",
       "    <tr>\n",
       "      <th>1</th>\n",
       "      <td>0   0   0      0   0   0      0   0   0   \\n7 ...</td>\n",
       "      <td>58</td>\n",
       "      <td>257</td>\n",
       "      <td>1</td>\n",
       "      <td>5</td>\n",
       "      <td>6</td>\n",
       "      <td>2</td>\n",
       "      <td>0.030201</td>\n",
       "      <td>Medium</td>\n",
       "    </tr>\n",
       "    <tr>\n",
       "      <th>2</th>\n",
       "      <td>8   0   0      0   5   9      0   4   0   \\n0 ...</td>\n",
       "      <td>53</td>\n",
       "      <td>202</td>\n",
       "      <td>0</td>\n",
       "      <td>6</td>\n",
       "      <td>5</td>\n",
       "      <td>4</td>\n",
       "      <td>0.028514</td>\n",
       "      <td>Medium</td>\n",
       "    </tr>\n",
       "    <tr>\n",
       "      <th>3</th>\n",
       "      <td>4   0   2      5   0   0      3   9   6   \\n3 ...</td>\n",
       "      <td>42</td>\n",
       "      <td>102</td>\n",
       "      <td>8</td>\n",
       "      <td>6</td>\n",
       "      <td>8</td>\n",
       "      <td>4</td>\n",
       "      <td>0.015175</td>\n",
       "      <td>Easy</td>\n",
       "    </tr>\n",
       "    <tr>\n",
       "      <th>4</th>\n",
       "      <td>6   0   4      0   0   0      9   0   0   \\n0 ...</td>\n",
       "      <td>70</td>\n",
       "      <td>458</td>\n",
       "      <td>0</td>\n",
       "      <td>3</td>\n",
       "      <td>4</td>\n",
       "      <td>1</td>\n",
       "      <td>0.035079</td>\n",
       "      <td>Hard</td>\n",
       "    </tr>\n",
       "    <tr>\n",
       "      <th>5</th>\n",
       "      <td>6   9   0      4   0   5      8   2   0   \\n0 ...</td>\n",
       "      <td>46</td>\n",
       "      <td>141</td>\n",
       "      <td>2</td>\n",
       "      <td>6</td>\n",
       "      <td>6</td>\n",
       "      <td>4</td>\n",
       "      <td>0.022000</td>\n",
       "      <td>Easy</td>\n",
       "    </tr>\n",
       "    <tr>\n",
       "      <th>6</th>\n",
       "      <td>4   0   0      0   0   0      0   2   0   \\n0 ...</td>\n",
       "      <td>61</td>\n",
       "      <td>312</td>\n",
       "      <td>0</td>\n",
       "      <td>5</td>\n",
       "      <td>4</td>\n",
       "      <td>2</td>\n",
       "      <td>0.032067</td>\n",
       "      <td>Medium</td>\n",
       "    </tr>\n",
       "    <tr>\n",
       "      <th>7</th>\n",
       "      <td>8   0   0      3   0   9      0   0   0   \\n3 ...</td>\n",
       "      <td>54</td>\n",
       "      <td>213</td>\n",
       "      <td>0</td>\n",
       "      <td>5</td>\n",
       "      <td>6</td>\n",
       "      <td>5</td>\n",
       "      <td>0.029250</td>\n",
       "      <td>Medium</td>\n",
       "    </tr>\n",
       "    <tr>\n",
       "      <th>8</th>\n",
       "      <td>6   0   2      0   3   0      0   0   8   \\n3 ...</td>\n",
       "      <td>47</td>\n",
       "      <td>153</td>\n",
       "      <td>1</td>\n",
       "      <td>5</td>\n",
       "      <td>5</td>\n",
       "      <td>1</td>\n",
       "      <td>0.022725</td>\n",
       "      <td>Easy</td>\n",
       "    </tr>\n",
       "    <tr>\n",
       "      <th>9</th>\n",
       "      <td>5   0   0      6   4   0      1   7   8   \\n0 ...</td>\n",
       "      <td>50</td>\n",
       "      <td>167</td>\n",
       "      <td>1</td>\n",
       "      <td>6</td>\n",
       "      <td>5</td>\n",
       "      <td>5</td>\n",
       "      <td>0.026502</td>\n",
       "      <td>Medium</td>\n",
       "    </tr>\n",
       "    <tr>\n",
       "      <th>10</th>\n",
       "      <td>0   0   4      0   0   0      7   2   0   \\n0 ...</td>\n",
       "      <td>56</td>\n",
       "      <td>232</td>\n",
       "      <td>2</td>\n",
       "      <td>6</td>\n",
       "      <td>6</td>\n",
       "      <td>5</td>\n",
       "      <td>0.029271</td>\n",
       "      <td>Medium</td>\n",
       "    </tr>\n",
       "    <tr>\n",
       "      <th>11</th>\n",
       "      <td>0   7   0      3   9   0      0   8   0   \\n0 ...</td>\n",
       "      <td>41</td>\n",
       "      <td>109</td>\n",
       "      <td>5</td>\n",
       "      <td>7</td>\n",
       "      <td>6</td>\n",
       "      <td>2</td>\n",
       "      <td>0.015315</td>\n",
       "      <td>Easy</td>\n",
       "    </tr>\n",
       "    <tr>\n",
       "      <th>12</th>\n",
       "      <td>0   4   0      2   0   0      7   0   8   \\n0 ...</td>\n",
       "      <td>52</td>\n",
       "      <td>179</td>\n",
       "      <td>2</td>\n",
       "      <td>5</td>\n",
       "      <td>5</td>\n",
       "      <td>3</td>\n",
       "      <td>0.027191</td>\n",
       "      <td>Medium</td>\n",
       "    </tr>\n",
       "    <tr>\n",
       "      <th>13</th>\n",
       "      <td>0   0   0      1   0   8      0   0   0   \\n0 ...</td>\n",
       "      <td>69</td>\n",
       "      <td>451</td>\n",
       "      <td>0</td>\n",
       "      <td>2</td>\n",
       "      <td>5</td>\n",
       "      <td>2</td>\n",
       "      <td>0.034408</td>\n",
       "      <td>Hard</td>\n",
       "    </tr>\n",
       "    <tr>\n",
       "      <th>14</th>\n",
       "      <td>0   0   0      5   0   0      0   0   0   \\n0 ...</td>\n",
       "      <td>70</td>\n",
       "      <td>462</td>\n",
       "      <td>0</td>\n",
       "      <td>2</td>\n",
       "      <td>4</td>\n",
       "      <td>2</td>\n",
       "      <td>0.035304</td>\n",
       "      <td>Hard</td>\n",
       "    </tr>\n",
       "    <tr>\n",
       "      <th>15</th>\n",
       "      <td>9   8   0      0   0   5      0   0   0   \\n0 ...</td>\n",
       "      <td>47</td>\n",
       "      <td>138</td>\n",
       "      <td>5</td>\n",
       "      <td>6</td>\n",
       "      <td>5</td>\n",
       "      <td>6</td>\n",
       "      <td>0.022397</td>\n",
       "      <td>Easy</td>\n",
       "    </tr>\n",
       "    <tr>\n",
       "      <th>16</th>\n",
       "      <td>0   0   3      0   0   7      0   0   0   \\n0 ...</td>\n",
       "      <td>70</td>\n",
       "      <td>459</td>\n",
       "      <td>0</td>\n",
       "      <td>3</td>\n",
       "      <td>3</td>\n",
       "      <td>0</td>\n",
       "      <td>0.035036</td>\n",
       "      <td>Hard</td>\n",
       "    </tr>\n",
       "    <tr>\n",
       "      <th>17</th>\n",
       "      <td>0   0   0      8   0   4      9   0   2   \\n0 ...</td>\n",
       "      <td>42</td>\n",
       "      <td>115</td>\n",
       "      <td>6</td>\n",
       "      <td>8</td>\n",
       "      <td>8</td>\n",
       "      <td>3</td>\n",
       "      <td>0.015130</td>\n",
       "      <td>Easy</td>\n",
       "    </tr>\n",
       "    <tr>\n",
       "      <th>18</th>\n",
       "      <td>8   0   0      1   2   0      0   4   0   \\n0 ...</td>\n",
       "      <td>59</td>\n",
       "      <td>279</td>\n",
       "      <td>0</td>\n",
       "      <td>4</td>\n",
       "      <td>4</td>\n",
       "      <td>2</td>\n",
       "      <td>0.031569</td>\n",
       "      <td>Medium</td>\n",
       "    </tr>\n",
       "    <tr>\n",
       "      <th>19</th>\n",
       "      <td>0   0   5      8   0   0      0   0   0   \\n0 ...</td>\n",
       "      <td>68</td>\n",
       "      <td>422</td>\n",
       "      <td>0</td>\n",
       "      <td>3</td>\n",
       "      <td>4</td>\n",
       "      <td>2</td>\n",
       "      <td>0.034877</td>\n",
       "      <td>Hard</td>\n",
       "    </tr>\n",
       "    <tr>\n",
       "      <th>20</th>\n",
       "      <td>2   0   0      0   0   7      0   8   0   \\n6 ...</td>\n",
       "      <td>60</td>\n",
       "      <td>295</td>\n",
       "      <td>0</td>\n",
       "      <td>3</td>\n",
       "      <td>5</td>\n",
       "      <td>0</td>\n",
       "      <td>0.031191</td>\n",
       "      <td>Medium</td>\n",
       "    </tr>\n",
       "    <tr>\n",
       "      <th>21</th>\n",
       "      <td>0   0   0      0   0   0      5   0   6   \\n0 ...</td>\n",
       "      <td>69</td>\n",
       "      <td>442</td>\n",
       "      <td>0</td>\n",
       "      <td>4</td>\n",
       "      <td>3</td>\n",
       "      <td>1</td>\n",
       "      <td>0.034884</td>\n",
       "      <td>Hard</td>\n",
       "    </tr>\n",
       "    <tr>\n",
       "      <th>22</th>\n",
       "      <td>0   0   0      0   0   0      0   1   6   \\n0 ...</td>\n",
       "      <td>42</td>\n",
       "      <td>107</td>\n",
       "      <td>5</td>\n",
       "      <td>6</td>\n",
       "      <td>6</td>\n",
       "      <td>4</td>\n",
       "      <td>0.017296</td>\n",
       "      <td>Easy</td>\n",
       "    </tr>\n",
       "    <tr>\n",
       "      <th>23</th>\n",
       "      <td>0   4   0      0   0   0      0   0   3   \\n0 ...</td>\n",
       "      <td>63</td>\n",
       "      <td>324</td>\n",
       "      <td>0</td>\n",
       "      <td>4</td>\n",
       "      <td>3</td>\n",
       "      <td>2</td>\n",
       "      <td>0.034219</td>\n",
       "      <td>Hard</td>\n",
       "    </tr>\n",
       "    <tr>\n",
       "      <th>24</th>\n",
       "      <td>0   6   1      0   0   0      0   8   0   \\n0 ...</td>\n",
       "      <td>51</td>\n",
       "      <td>158</td>\n",
       "      <td>3</td>\n",
       "      <td>5</td>\n",
       "      <td>5</td>\n",
       "      <td>2</td>\n",
       "      <td>0.026218</td>\n",
       "      <td>Medium</td>\n",
       "    </tr>\n",
       "    <tr>\n",
       "      <th>25</th>\n",
       "      <td>0   0   0      0   0   5      0   6   0   \\n0 ...</td>\n",
       "      <td>71</td>\n",
       "      <td>482</td>\n",
       "      <td>0</td>\n",
       "      <td>2</td>\n",
       "      <td>3</td>\n",
       "      <td>0</td>\n",
       "      <td>0.035168</td>\n",
       "      <td>Hard</td>\n",
       "    </tr>\n",
       "    <tr>\n",
       "      <th>26</th>\n",
       "      <td>0   9   0      0   4   3      0   7   8   \\n0 ...</td>\n",
       "      <td>42</td>\n",
       "      <td>124</td>\n",
       "      <td>2</td>\n",
       "      <td>6</td>\n",
       "      <td>7</td>\n",
       "      <td>4</td>\n",
       "      <td>0.017920</td>\n",
       "      <td>Easy</td>\n",
       "    </tr>\n",
       "    <tr>\n",
       "      <th>27</th>\n",
       "      <td>0   6   4      0   9   1      0   0   2   \\n8 ...</td>\n",
       "      <td>50</td>\n",
       "      <td>155</td>\n",
       "      <td>4</td>\n",
       "      <td>6</td>\n",
       "      <td>5</td>\n",
       "      <td>4</td>\n",
       "      <td>0.025042</td>\n",
       "      <td>Easy</td>\n",
       "    </tr>\n",
       "    <tr>\n",
       "      <th>28</th>\n",
       "      <td>0   0   4      0   2   6      3   0   1   \\n2 ...</td>\n",
       "      <td>63</td>\n",
       "      <td>313</td>\n",
       "      <td>0</td>\n",
       "      <td>5</td>\n",
       "      <td>3</td>\n",
       "      <td>2</td>\n",
       "      <td>0.034637</td>\n",
       "      <td>Hard</td>\n",
       "    </tr>\n",
       "    <tr>\n",
       "      <th>29</th>\n",
       "      <td>0   1   5      0   0   0      0   0   0   \\n0 ...</td>\n",
       "      <td>68</td>\n",
       "      <td>406</td>\n",
       "      <td>0</td>\n",
       "      <td>4</td>\n",
       "      <td>2</td>\n",
       "      <td>0</td>\n",
       "      <td>0.035569</td>\n",
       "      <td>Hard</td>\n",
       "    </tr>\n",
       "  </tbody>\n",
       "</table>\n",
       "</div>"
      ],
      "text/plain": [
       "                                               Puzzle  Number_of_Blanks  \\\n",
       "0   0   5   0      0   2   0      0   0   0   \\n0 ...                55   \n",
       "1   0   0   0      0   0   0      0   0   0   \\n7 ...                58   \n",
       "2   8   0   0      0   5   9      0   4   0   \\n0 ...                53   \n",
       "3   4   0   2      5   0   0      3   9   6   \\n3 ...                42   \n",
       "4   6   0   4      0   0   0      9   0   0   \\n0 ...                70   \n",
       "5   6   9   0      4   0   5      8   2   0   \\n0 ...                46   \n",
       "6   4   0   0      0   0   0      0   2   0   \\n0 ...                61   \n",
       "7   8   0   0      3   0   9      0   0   0   \\n3 ...                54   \n",
       "8   6   0   2      0   3   0      0   0   8   \\n3 ...                47   \n",
       "9   5   0   0      6   4   0      1   7   8   \\n0 ...                50   \n",
       "10  0   0   4      0   0   0      7   2   0   \\n0 ...                56   \n",
       "11  0   7   0      3   9   0      0   8   0   \\n0 ...                41   \n",
       "12  0   4   0      2   0   0      7   0   8   \\n0 ...                52   \n",
       "13  0   0   0      1   0   8      0   0   0   \\n0 ...                69   \n",
       "14  0   0   0      5   0   0      0   0   0   \\n0 ...                70   \n",
       "15  9   8   0      0   0   5      0   0   0   \\n0 ...                47   \n",
       "16  0   0   3      0   0   7      0   0   0   \\n0 ...                70   \n",
       "17  0   0   0      8   0   4      9   0   2   \\n0 ...                42   \n",
       "18  8   0   0      1   2   0      0   4   0   \\n0 ...                59   \n",
       "19  0   0   5      8   0   0      0   0   0   \\n0 ...                68   \n",
       "20  2   0   0      0   0   7      0   8   0   \\n6 ...                60   \n",
       "21  0   0   0      0   0   0      5   0   6   \\n0 ...                69   \n",
       "22  0   0   0      0   0   0      0   1   6   \\n0 ...                42   \n",
       "23  0   4   0      0   0   0      0   0   3   \\n0 ...                63   \n",
       "24  0   6   1      0   0   0      0   8   0   \\n0 ...                51   \n",
       "25  0   0   0      0   0   5      0   6   0   \\n0 ...                71   \n",
       "26  0   9   0      0   4   3      0   7   8   \\n0 ...                42   \n",
       "27  0   6   4      0   9   1      0   0   2   \\n8 ...                50   \n",
       "28  0   0   4      0   2   6      3   0   1   \\n2 ...                63   \n",
       "29  0   1   5      0   0   0      0   0   0   \\n0 ...                68   \n",
       "\n",
       "    Total_Enigma  Given  Max_in_Row  Max_in_Column  Max_in_Group  \\\n",
       "0            229      0           4              5             3   \n",
       "1            257      1           5              6             2   \n",
       "2            202      0           6              5             4   \n",
       "3            102      8           6              8             4   \n",
       "4            458      0           3              4             1   \n",
       "5            141      2           6              6             4   \n",
       "6            312      0           5              4             2   \n",
       "7            213      0           5              6             5   \n",
       "8            153      1           5              5             1   \n",
       "9            167      1           6              5             5   \n",
       "10           232      2           6              6             5   \n",
       "11           109      5           7              6             2   \n",
       "12           179      2           5              5             3   \n",
       "13           451      0           2              5             2   \n",
       "14           462      0           2              4             2   \n",
       "15           138      5           6              5             6   \n",
       "16           459      0           3              3             0   \n",
       "17           115      6           8              8             3   \n",
       "18           279      0           4              4             2   \n",
       "19           422      0           3              4             2   \n",
       "20           295      0           3              5             0   \n",
       "21           442      0           4              3             1   \n",
       "22           107      5           6              6             4   \n",
       "23           324      0           4              3             2   \n",
       "24           158      3           5              5             2   \n",
       "25           482      0           2              3             0   \n",
       "26           124      2           6              7             4   \n",
       "27           155      4           6              5             4   \n",
       "28           313      0           5              3             2   \n",
       "29           406      0           4              2             0   \n",
       "\n",
       "    predicted_time Difficulty  \n",
       "0         0.029461     Medium  \n",
       "1         0.030201     Medium  \n",
       "2         0.028514     Medium  \n",
       "3         0.015175       Easy  \n",
       "4         0.035079       Hard  \n",
       "5         0.022000       Easy  \n",
       "6         0.032067     Medium  \n",
       "7         0.029250     Medium  \n",
       "8         0.022725       Easy  \n",
       "9         0.026502     Medium  \n",
       "10        0.029271     Medium  \n",
       "11        0.015315       Easy  \n",
       "12        0.027191     Medium  \n",
       "13        0.034408       Hard  \n",
       "14        0.035304       Hard  \n",
       "15        0.022397       Easy  \n",
       "16        0.035036       Hard  \n",
       "17        0.015130       Easy  \n",
       "18        0.031569     Medium  \n",
       "19        0.034877       Hard  \n",
       "20        0.031191     Medium  \n",
       "21        0.034884       Hard  \n",
       "22        0.017296       Easy  \n",
       "23        0.034219       Hard  \n",
       "24        0.026218     Medium  \n",
       "25        0.035168       Hard  \n",
       "26        0.017920       Easy  \n",
       "27        0.025042       Easy  \n",
       "28        0.034637       Hard  \n",
       "29        0.035569       Hard  "
      ]
     },
     "execution_count": 146,
     "metadata": {},
     "output_type": "execute_result"
    }
   ],
   "source": [
    "puzzles_df.head(30)"
   ]
  },
  {
   "cell_type": "markdown",
   "metadata": {},
   "source": [
    "And there we have it! 250 randomly generated puzzles classified by their difficulty without having to solve any of them. Thank you for making it to the end of this notebook. I hope you enjoyed."
   ]
  },
  {
   "cell_type": "code",
   "execution_count": null,
   "metadata": {},
   "outputs": [],
   "source": [
    "solve(puzzles_df.iloc[1]['Puzzle'].board)"
   ]
  },
  {
   "cell_type": "code",
   "execution_count": null,
   "metadata": {},
   "outputs": [],
   "source": []
  },
  {
   "cell_type": "code",
   "execution_count": null,
   "metadata": {},
   "outputs": [],
   "source": []
  }
 ],
 "metadata": {
  "kernelspec": {
   "display_name": "Python 3",
   "language": "python",
   "name": "python3"
  },
  "language_info": {
   "codemirror_mode": {
    "name": "ipython",
    "version": 3
   },
   "file_extension": ".py",
   "mimetype": "text/x-python",
   "name": "python",
   "nbconvert_exporter": "python",
   "pygments_lexer": "ipython3",
   "version": "3.7.2"
  }
 },
 "nbformat": 4,
 "nbformat_minor": 4
}
